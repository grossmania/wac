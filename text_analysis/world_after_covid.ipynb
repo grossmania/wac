{
 "cells": [
  {
   "cell_type": "markdown",
   "metadata": {},
   "source": [
    "# Forecasts and Wisdom for the World after Covid: <br>Quantifying Uncertainty in Expert Reflections \n",
    "\n",
    "Igor Grossman, Eranda Jayawickreme, Michael Varnum, and John McLevey\n",
    "\n",
    "## Supplementary Analysis for Dialectical Thinking\n",
    "\n",
    "As a final confirmation, we also conducted a multi-step sentiment analysis that focused on the balance of positive and negative sentiment contained within each sentence of each individual response. For example, the following text\n",
    "\n",
    "> \"This pandemic has underscored societal inequalities along age, class, ethnic, regional and gender lines. The pandemic has not caused these inequalities, but it's put a spotlight on them. Disease affects certain ethnic and age groups more than others, a woman's contribution to the economy is likely to be hit harder than man's, and those who have entered COVID-19 with ongoing major problems such as poverty, political instability, and corruption, will have a harder time coming out of it in one piece. Alongside of all this, we have also realized one more time, that we all depend on each other in our lives are interconnected in so many different ways. I expect and perhaps more so hope, that this picture will motivate us to work towards understanding why this pandemic hits certain groups harder than others. As a result, it will motivate us to pick up a stronger fight against the unfair distribution of resources and rights not just where we live, but much more globally.\"\n",
    "\n",
    "was first segmented into sentences. We conducted a rules-based sentiment analysis to compute a compound sentiment score for each sentence in each response. These are normalized, weighted composite scores ranging from -1 to 1, where -1 is the negative extreme and 1 is the positive extreme. Each response is then summarized as a vector of these compound sentiment scores, where the length of the vector is equal to the number of sentences in the individual response.\n",
    "\n",
    "The balance of these compound scores across sentences in any given response can give us a general picture of the direction each expert leans when responding to a given question. For example, if they focus almost exclusively on the positives, then their sentiment scores should be closer to 1, but if they tend to focus almost exclusively on the negative, then they should tend towards -1. In both cases we would expect to see little variables in these scores if the emphasis is indeed consistently leaning towards the positive or the negative. If there is a balance between a consideration of positives and negatives, then the sentiment scores will be more variable with a mean closer to 0.\n",
    "\n",
    "- split into 5 questions; vertical graphs for each question side by side in one row of plots"
   ]
  },
  {
   "cell_type": "code",
   "execution_count": 34,
   "metadata": {},
   "outputs": [],
   "source": [
    "import pandas as pd\n",
    "import numpy as np\n",
    "from scipy import stats\n",
    "\n",
    "import spacy \n",
    "nlp = spacy.load('en_core_web_lg')\n",
    "from vaderSentiment.vaderSentiment import SentimentIntensityAnalyzer\n",
    "analyzer = SentimentIntensityAnalyzer()\n",
    "\n",
    "from gensim.models.phrases import Phrases, Phraser\n",
    "from gensim.utils import simple_preprocess\n",
    "import matplotlib.pyplot as plt"
   ]
  },
  {
   "cell_type": "markdown",
   "metadata": {},
   "source": [
    "# Data"
   ]
  },
  {
   "cell_type": "code",
   "execution_count": 3,
   "metadata": {},
   "outputs": [],
   "source": [
    "d = pd.read_csv('data/from_igor/transcripts.csv', encoding='Latin1')"
   ]
  },
  {
   "cell_type": "code",
   "execution_count": 4,
   "metadata": {},
   "outputs": [],
   "source": [
    "q1 = d['Q1'].tolist()\n",
    "q2 = d['Q2'].tolist()\n",
    "q3 = d['Q3'].tolist()\n",
    "q4 = d['Q4'].tolist()\n",
    "q5 = d['Q5'].tolist()\n",
    "\n",
    "alltext = q1 + q2 + q3 + q4 + q5"
   ]
  },
  {
   "cell_type": "markdown",
   "metadata": {},
   "source": [
    "# Functions\n",
    "\n",
    "- NOTE: STDS are not STDS anymore. They are **standard errors**. Clean this shit up ASAP! "
   ]
  },
  {
   "cell_type": "code",
   "execution_count": 43,
   "metadata": {},
   "outputs": [],
   "source": [
    "def scrub(texts):\n",
    "    scrubbed = [str(t).replace('Â','').replace('â','') for t in texts]\n",
    "    return scrubbed\n",
    "    \n",
    "def get_sentences(doc):\n",
    "    sentences = [s.text for s in doc.sents]\n",
    "    return sentences\n",
    "    \n",
    "def get_sentiment(sentence):\n",
    "    return analyzer.polarity_scores(sentence)\n",
    "\n",
    "def sentiment(texts):\n",
    "    texts = scrub(texts)\n",
    "    docs = list(nlp.pipe(texts))\n",
    "\n",
    "    results = []\n",
    "    for doc in docs:\n",
    "        docsentisent = {}\n",
    "        sentences = get_sentences(doc)\n",
    "    \n",
    "        sentence_scores_compound = []\n",
    "        for sentence in sentences:\n",
    "            score = get_sentiment(sentence)\n",
    "            sentence_scores_compound.append(score['compound'])     \n",
    "            \n",
    "        docsentisent = sentence_scores_compound\n",
    "        results.append(docsentisent)\n",
    "    return results\n",
    "\n",
    "def sentiment_summary(sentiment_scores):\n",
    "    means = []\n",
    "    stds = []\n",
    "    for scores in sentiment_scores:\n",
    "        means.append(float(np.mean(scores)))\n",
    "        stds.append(float(np.std(scores)/np.sqrt(len(scores)))) # switched from STD to standard error.\n",
    "    return means, stds\n",
    "\n",
    "def get_positives_negatives(texts):\n",
    "    texts = scrub(texts)\n",
    "    docs = list(nlp.pipe(texts))\n",
    "\n",
    "    results = []\n",
    "    for doc in docs:\n",
    "        docsentisent = {}\n",
    "        sentences = get_sentences(doc)\n",
    "    \n",
    "        sentence_scores_compound = []\n",
    "        for sentence in sentences:\n",
    "            score = get_sentiment(sentence)\n",
    "            sentence_scores_compound.append([score['pos'], score['neg']])     \n",
    "            \n",
    "        docsentisent = sentence_scores_compound\n",
    "        results.append(docsentisent)\n",
    "    return results"
   ]
  },
  {
   "cell_type": "markdown",
   "metadata": {},
   "source": [
    "# Pre-Processing & Sentiment Analysis"
   ]
  },
  {
   "cell_type": "code",
   "execution_count": 37,
   "metadata": {},
   "outputs": [],
   "source": [
    "q1sentiment = sentiment(q1)\n",
    "q2sentiment = sentiment(q2)\n",
    "q3sentiment = sentiment(q3)\n",
    "q4sentiment = sentiment(q4)\n",
    "q5sentiment = sentiment(q5)"
   ]
  },
  {
   "cell_type": "code",
   "execution_count": 38,
   "metadata": {},
   "outputs": [],
   "source": [
    "mq1, sq1 = sentiment_summary(q1sentiment)\n",
    "mq2, sq2 = sentiment_summary(q2sentiment)\n",
    "mq3, sq3 = sentiment_summary(q3sentiment)\n",
    "mq4, sq4 = sentiment_summary(q4sentiment)\n",
    "mq5, sq5 = sentiment_summary(q5sentiment)"
   ]
  },
  {
   "cell_type": "code",
   "execution_count": 39,
   "metadata": {},
   "outputs": [],
   "source": [
    "stds = np.array([sq1, sq2, sq3, sq4, sq5])"
   ]
  },
  {
   "cell_type": "markdown",
   "metadata": {},
   "source": [
    "# Plots\n",
    "\n",
    "This plot will not be included in the report. It was the baseline exploratory plot the others were built on top of. Keeping it here in case it is needed later."
   ]
  },
  {
   "cell_type": "code",
   "execution_count": 42,
   "metadata": {},
   "outputs": [
    {
     "data": {
      "image/png": "[encoded data removed]",
      "text/plain": [
       "<Figure size 1440x432 with 5 Axes>"
      ]
     },
     "metadata": {
      "needs_background": "light"
     },
     "output_type": "display_data"
    }
   ],
   "source": [
    "fig, (ax1, ax2, ax3, ax4, ax5) = plt.subplots(nrows=1, ncols=5, sharex=True, sharey=True, figsize=(20, 6))\n",
    "\n",
    "# QUESTION 1\n",
    "\n",
    "ax1.yaxis.set_major_formatter(plt.NullFormatter())\n",
    "\n",
    "for i,m in enumerate(mq1):\n",
    "    ax1.errorbar(m, i, xerr=sq1[i], elinewidth=5, alpha=0.5, ecolor='lightgray', capsize=0)\n",
    "    ax1.axvline(0, color='black')\n",
    "    ax1.scatter(m, i, color='crimson', s=6, marker='s')\n",
    "    plt.xlim(-1,1)\n",
    "    ax1.set_xticks([-1,-.5,0,.5,1])\n",
    "    ax1.set_xticklabels([\"-1\",\"-.5\",\"0\",\".5\",\"1\"])\n",
    "    ax1.axes.yaxis.set_visible(False)\n",
    "    ax1.set_title('Positive Predictions', size=15)\n",
    "    ax1.tick_params(axis='x', labelsize=15)\n",
    "#     ax1.set_xlabel('Compound Sentiment', fontsize = 20)\n",
    "    \n",
    "# QUESTION 3\n",
    "\n",
    "for i,m in enumerate(mq3):\n",
    "    ax2.errorbar(m, i, xerr=sq3[i], elinewidth=5, alpha=0.5, ecolor='lightgray', capsize=0)\n",
    "    ax2.axvline(0, color='black')\n",
    "    ax2.scatter(m, i, color='crimson', s=6, marker='s')\n",
    "    ax2.axes.yaxis.set_visible(False)\n",
    "    ax2.axes.yaxis.set_visible(False)\n",
    "    ax2.set_title('Negative Predictions', size=15)\n",
    "    ax2.tick_params(axis='x', labelsize=15)\n",
    "#     ax2.set_xlabel('Compound Sentiment', fontsize = 20)\n",
    "\n",
    "# QUESTION 2\n",
    "\n",
    "for i,m in enumerate(mq2):\n",
    "    ax3.errorbar(m, i, xerr=sq2[i], elinewidth=5, alpha=0.5, ecolor='lightgray', capsize=0)\n",
    "    ax3.axvline(0, color='black')\n",
    "    ax3.axes.yaxis.set_visible(False)\n",
    "    ax3.scatter(m, i, color='crimson', s=6, marker='s')\n",
    "    ax3.set_title('Wisdom for Positive', size=15)\n",
    "    ax3.tick_params(axis='x', labelsize=15)\n",
    "    ax3.set_xlabel('Compound Sentiment', fontsize = 20)\n",
    "\n",
    "# QUESTION 4\n",
    "\n",
    "for i,m in enumerate(mq4):\n",
    "    ax4.errorbar(m, i, xerr=sq4[i], elinewidth=5, alpha=0.5, ecolor='lightgray', capsize=0)\n",
    "    ax4.axvline(0, color='black')\n",
    "    ax4.axes.yaxis.set_visible(False)\n",
    "    ax4.scatter(m, i, color='crimson', s=6, marker='s')\n",
    "    ax4.set_title('Wisdom against Negative', size=15)\n",
    "    ax4.tick_params(axis='x', labelsize=15)\n",
    "#     ax4.set_xlabel('Compound Sentiment', fontsize = 20)\n",
    "\n",
    "# QUESTION 5\n",
    "\n",
    "for i,m in enumerate(mq5):\n",
    "    ax5.errorbar(m, i, xerr=sq5[i], elinewidth=5, alpha=0.5, ecolor='lightgray', capsize=0)\n",
    "    ax5.axvline(0, color='black')\n",
    "    ax5.axes.yaxis.set_visible(False)\n",
    "    ax5.scatter(m, i, color='crimson', s=6, marker='s')\n",
    "    ax5.set_title('Wisdom Now', size=15)\n",
    "    ax5.tick_params(axis='x', labelsize=15)\n",
    "#     ax5.set_xlabel('Compound Sentiment', fontsize = 20)\n",
    "       \n",
    "# fig.text(0.5, 0.04, 'Compound Sentiment Scores', ha='center')\n",
    "plt.tight_layout()        \n",
    "plt.savefig('sentiments.png', dpi=600)"
   ]
  },
  {
   "cell_type": "markdown",
   "metadata": {},
   "source": [
    "# Alternate Plots\n",
    "\n",
    "The plot below is a bit like a coefficient plot, but I am not going to use it because the ECDF is more informative."
   ]
  },
  {
   "cell_type": "code",
   "execution_count": null,
   "metadata": {},
   "outputs": [],
   "source": [
    "# fig, ax = plt.subplots()\n",
    "\n",
    "# questions = [mq1, mq2, mq3, mq4, mq5]\n",
    "# for i,q in enumerate(questions):\n",
    "#     ax.errorbar(np.mean(q),i+1, xerr=np.std(q), fmt='.k', ecolor='lightgray', \n",
    "#                 elinewidth=10, ms=8, marker='s')\n",
    "\n",
    "# ax.set_xticks([-1,-.5,0,.5,1])\n",
    "# ax.set_xticklabels([\"-1\",\"-.5\",\"0\",\".5\",\"1\"])\n",
    "    \n",
    "# ax.set_yticks([1,2,3,4,5])\n",
    "# ax.set_yticklabels([\"Q1\",\"Q2\",\"Q3\",\"Q4\",\"Q5\"])\n",
    "\n",
    "# plt.show()"
   ]
  },
  {
   "cell_type": "markdown",
   "metadata": {},
   "source": [
    "# Paths\n",
    "\n",
    "These are purely exploratory. Not for inclusion in the final report."
   ]
  },
  {
   "cell_type": "code",
   "execution_count": 11,
   "metadata": {},
   "outputs": [],
   "source": [
    "q1pn = get_positives_negatives(q1)\n",
    "q2pn = get_positives_negatives(q2)\n",
    "q3pn = get_positives_negatives(q3)\n",
    "q4pn = get_positives_negatives(q4)\n",
    "q5pn = get_positives_negatives(q5)"
   ]
  },
  {
   "cell_type": "code",
   "execution_count": 12,
   "metadata": {},
   "outputs": [],
   "source": [
    "def create_small_multiples(pn, savepath):\n",
    "    fig, ax = plt.subplots(nrows=12, ncols=5, sharex=True, sharey=True, figsize=(18,30))\n",
    "\n",
    "    data = np.array(pn[0])\n",
    "    ax[0,0].plot(data[:, 0], data[:, 1], color='black', linewidth=3, marker='>')\n",
    "    data = np.array(pn[1])\n",
    "    ax[0,1].plot(data[:, 0], data[:, 1], color='black', linewidth=3)\n",
    "    data = np.array(pn[2])\n",
    "    ax[0,2].plot(data[:, 0], data[:, 1], color='black', linewidth=3)\n",
    "    data = np.array(pn[3])\n",
    "    ax[0,3].plot(data[:, 0], data[:, 1], color='black', linewidth=3)\n",
    "    data = np.array(pn[4])\n",
    "    ax[0,4].plot(data[:, 0], data[:, 1], color='black', linewidth=3)\n",
    "    data = np.array(pn[5])\n",
    "    ax[1,0].plot(data[:, 0], data[:, 1], color='black', linewidth=3)\n",
    "    data = np.array(pn[6])\n",
    "    ax[1,1].plot(data[:, 0], data[:, 1], color='black', linewidth=3)\n",
    "    data = np.array(pn[7])\n",
    "    ax[1,2].plot(data[:, 0], data[:, 1], color='black', linewidth=3)\n",
    "    data = np.array(pn[8])\n",
    "    ax[1,3].plot(data[:, 0], data[:, 1], color='black', linewidth=3)\n",
    "    data = np.array(pn[9])\n",
    "    ax[1,4].plot(data[:, 0], data[:, 1], color='black', linewidth=3)\n",
    "    data = np.array(pn[10])\n",
    "    ax[2,0].plot(data[:, 0], data[:, 1], color='black', linewidth=3)\n",
    "    data = np.array(pn[11])\n",
    "    ax[2,1].plot(data[:, 0], data[:, 1], color='black', linewidth=3)\n",
    "    data = np.array(pn[12])\n",
    "    ax[2,2].plot(data[:, 0], data[:, 1], color='black', linewidth=3)\n",
    "    data = np.array(pn[13])\n",
    "    ax[2,3].plot(data[:, 0], data[:, 1], color='black', linewidth=3)\n",
    "    data = np.array(pn[14])\n",
    "    ax[2,4].plot(data[:, 0], data[:, 1], color='black', linewidth=3)\n",
    "    data = np.array(pn[15])\n",
    "    ax[3,0].plot(data[:, 0], data[:, 1], color='black', linewidth=3)\n",
    "    data = np.array(pn[16])\n",
    "    ax[3,1].plot(data[:, 0], data[:, 1], color='black', linewidth=3)\n",
    "    data = np.array(pn[17])\n",
    "    ax[3,2].plot(data[:, 0], data[:, 1], color='black', linewidth=3)\n",
    "    data = np.array(pn[18])\n",
    "    ax[3,3].plot(data[:, 0], data[:, 1], color='black', linewidth=3)\n",
    "    data = np.array(pn[19])\n",
    "    ax[3,4].plot(data[:, 0], data[:, 1], color='black', linewidth=3)\n",
    "    data = np.array(pn[20])\n",
    "    ax[4,0].plot(data[:, 0], data[:, 1], color='black', linewidth=3)\n",
    "    data = np.array(pn[21])\n",
    "    ax[4,1].plot(data[:, 0], data[:, 1], color='black', linewidth=3)\n",
    "    data = np.array(pn[22])\n",
    "    ax[4,2].plot(data[:, 0], data[:, 1], color='black', linewidth=3)\n",
    "    data = np.array(pn[23])\n",
    "    ax[4,3].plot(data[:, 0], data[:, 1], color='black', linewidth=3)\n",
    "    data = np.array(pn[24])\n",
    "    ax[4,4].plot(data[:, 0], data[:, 1], color='black', linewidth=3)\n",
    "    data = np.array(pn[25])\n",
    "    ax[5,0].plot(data[:, 0], data[:, 1], color='black', linewidth=3)\n",
    "    data = np.array(pn[26])\n",
    "    ax[5,1].plot(data[:, 0], data[:, 1], color='black', linewidth=3)\n",
    "    data = np.array(pn[27])\n",
    "    ax[5,2].plot(data[:, 0], data[:, 1], color='black', linewidth=3)\n",
    "    data = np.array(pn[28])\n",
    "    ax[5,3].plot(data[:, 0], data[:, 1], color='black', linewidth=3)\n",
    "    data = np.array(pn[29])\n",
    "    ax[5,4].plot(data[:, 0], data[:, 1], color='black', linewidth=3)\n",
    "    data = np.array(pn[30])\n",
    "    ax[6,0].plot(data[:, 0], data[:, 1], color='black', linewidth=3)\n",
    "    data = np.array(pn[31])\n",
    "    ax[6,1].plot(data[:, 0], data[:, 1], color='black', linewidth=3)\n",
    "    data = np.array(pn[32])\n",
    "    ax[6,2].plot(data[:, 0], data[:, 1], color='black', linewidth=3)\n",
    "    data = np.array(pn[33])\n",
    "    ax[6,3].plot(data[:, 0], data[:, 1], color='black', linewidth=3)\n",
    "    data = np.array(pn[34])\n",
    "    ax[6,4].plot(data[:, 0], data[:, 1], color='black', linewidth=3)\n",
    "    data = np.array(pn[35])\n",
    "    ax[7,0].plot(data[:, 0], data[:, 1], color='black', linewidth=3)\n",
    "    data = np.array(pn[36])\n",
    "    ax[7,1].plot(data[:, 0], data[:, 1], color='black', linewidth=3)\n",
    "    data = np.array(pn[37])\n",
    "    ax[7,2].plot(data[:, 0], data[:, 1], color='black', linewidth=3)\n",
    "    data = np.array(pn[38])\n",
    "    ax[7,3].plot(data[:, 0], data[:, 1], color='black', linewidth=3)\n",
    "    data = np.array(pn[39])\n",
    "    ax[7,4].plot(data[:, 0], data[:, 1], color='black', linewidth=3)\n",
    "    data = np.array(pn[40])\n",
    "    ax[8,0].plot(data[:, 0], data[:, 1], color='black', linewidth=3)\n",
    "    data = np.array(pn[41])\n",
    "    ax[8,1].plot(data[:, 0], data[:, 1], color='black', linewidth=3)\n",
    "    data = np.array(pn[42])\n",
    "    ax[8,2].plot(data[:, 0], data[:, 1], color='black', linewidth=3)\n",
    "    data = np.array(pn[43])\n",
    "    ax[8,3].plot(data[:, 0], data[:, 1], color='black', linewidth=3)\n",
    "    data = np.array(pn[44])\n",
    "    ax[8,4].plot(data[:, 0], data[:, 1], color='black', linewidth=3)\n",
    "    data = np.array(pn[45])\n",
    "    ax[9,0].plot(data[:, 0], data[:, 1], color='black', linewidth=3)\n",
    "    data = np.array(pn[46])\n",
    "    ax[9,1].plot(data[:, 0], data[:, 1], color='black', linewidth=3)\n",
    "    data = np.array(pn[47])\n",
    "    ax[9,2].plot(data[:, 0], data[:, 1], color='black', linewidth=3)\n",
    "    data = np.array(pn[48])\n",
    "    ax[9,3].plot(data[:, 0], data[:, 1], color='black', linewidth=3)\n",
    "    data = np.array(pn[49])\n",
    "    ax[9,4].plot(data[:, 0], data[:, 1], color='black', linewidth=3)\n",
    "    data = np.array(pn[50])\n",
    "    ax[10,0].plot(data[:, 0], data[:, 1], color='black', linewidth=3)\n",
    "    data = np.array(pn[51])\n",
    "    ax[10,1].plot(data[:, 0], data[:, 1], color='black', linewidth=3)\n",
    "    data = np.array(pn[52])\n",
    "    ax[10,2].plot(data[:, 0], data[:, 1], color='black', linewidth=3)\n",
    "    data = np.array(pn[53])\n",
    "    ax[10,3].plot(data[:, 0], data[:, 1], color='black', linewidth=3)\n",
    "    data = np.array(pn[54])\n",
    "    ax[10,4].plot(data[:, 0], data[:, 1], color='black', linewidth=3)\n",
    "    data = np.array(pn[55])\n",
    "    ax[11,0].plot(data[:, 0], data[:, 1], color='black', linewidth=3)\n",
    "    data = np.array(pn[56])\n",
    "    ax[11,1].plot(data[:, 0], data[:, 1], color='black', linewidth=3)\n",
    "    \n",
    "    \n",
    "    ax[11,2].axis('off')\n",
    "    ax[11,3].axis('off')\n",
    "    ax[11,4].axis('off')\n",
    "    \n",
    "    # plt.xlabel('Proportion of Positive Sentiment (Per Sentence)')\n",
    "    # plt.ylabel('Proportion of Negative Sentiment (Per Sentence)')\n",
    "    \n",
    "    plt.tight_layout()\n",
    "    plt.savefig(savepath, dpi=300)\n",
    "    plt.close()\n"
   ]
  },
  {
   "cell_type": "code",
   "execution_count": 13,
   "metadata": {},
   "outputs": [],
   "source": [
    "create_small_multiples(q1pn, 'sentiment_path_q1.png')\n",
    "create_small_multiples(q2pn, 'sentiment_path_q2.png')\n",
    "create_small_multiples(q3pn, 'sentiment_path_q3.png')\n",
    "create_small_multiples(q4pn, 'sentiment_path_q4.png')\n",
    "create_small_multiples(q5pn, 'sentiment_path_q5.png')"
   ]
  },
  {
   "cell_type": "markdown",
   "metadata": {},
   "source": [
    "# Nested Small Multiples"
   ]
  },
  {
   "cell_type": "code",
   "execution_count": 17,
   "metadata": {},
   "outputs": [
    {
     "data": {
      "image/png": "[encoded data removed]",
      "text/plain": [
       "<Figure size 1440x1152 with 6 Axes>"
      ]
     },
     "metadata": {
      "needs_background": "light"
     },
     "output_type": "display_data"
    }
   ],
   "source": [
    "fig, ax = plt.subplots(nrows=2, ncols=3, sharex=True, sharey=True, figsize=(20, 16))\n",
    "\n",
    "# QUESTION 1\n",
    "\n",
    "ax[0,0].yaxis.set_major_formatter(plt.NullFormatter())\n",
    "ax[0,1].yaxis.set_major_formatter(plt.NullFormatter())\n",
    "ax[1,0].yaxis.set_major_formatter(plt.NullFormatter())\n",
    "ax[1,1].yaxis.set_major_formatter(plt.NullFormatter())\n",
    "ax[1,2].yaxis.set_major_formatter(plt.NullFormatter())\n",
    "\n",
    "for i,m in enumerate(mq1):\n",
    "    ax[0,0].errorbar(m, i, xerr=sq1[i], elinewidth=5, alpha=0.5, ecolor='lightgray', capsize=0)\n",
    "    ax[0,0].axvline(0, color='black')    \n",
    "    ax[0,0].scatter(m, i, color='crimson', s=6, marker='s')\n",
    "    plt.xlim(-1,1)\n",
    "    ax[0,0].set_xticks([-1,-.5,0,.5,1])\n",
    "    ax[0,0].set_xticklabels([\"-1\",\"-.5\",\"0\",\".5\",\"1\"])\n",
    "    ax[0,0].axes.yaxis.set_visible(False)\n",
    "    #ax[0,0].title.set_text('Question 1 Responses')\n",
    "    ax[0,0].tick_params(axis='x', labelsize=15)\n",
    "    ax[0,0].set_xlabel('Compound Sentiment (Q1)', fontsize = 20)\n",
    "    \n",
    "# # QUESTION 3\n",
    "\n",
    "for i,m in enumerate(mq3):\n",
    "    ax[0,1].errorbar(m, i, xerr=sq3[i], elinewidth=5, alpha=0.5, ecolor='lightgray', capsize=0)\n",
    "    ax[0,1].axvline(0, color='black')\n",
    "    ax[0,1].axes.yaxis.set_visible(False)\n",
    "    \n",
    "#     ax[0,1].axvline(np.mean(mq3)-(np.std(mq3)/2), color='crimson', alpha=.2)\n",
    "#     ax[0,1].axvline(np.mean(mq3), color='crimson')\n",
    "#     ax[0,1].axvline(np.mean(mq3)+(np.std(mq3)/2), color='crimson', alpha=.2)\n",
    "    \n",
    "    ax[0,1].scatter(m, i, color='crimson', s=6, marker='s')\n",
    "#     ax[0,1].title.set_text('Question 3 Responses')\n",
    "    ax[0,1].tick_params(axis='x', labelsize=15)\n",
    "    ax[0,1].set_xlabel('Compound Sentiment (Q3)', fontsize = 20)    \n",
    "    \n",
    "\n",
    "# EMPTY PLOT\n",
    "ax[0,2].axis('off')\n",
    "\n",
    "# QUESTION 2\n",
    "\n",
    "for i,m in enumerate(mq2):\n",
    "    ax[1,0].errorbar(m, i, xerr=sq2[i], elinewidth=5, alpha=0.5, ecolor='lightgray', capsize=0)\n",
    "    ax[1,0].axvline(0, color='black')\n",
    "    ax[1,0].axes.yaxis.set_visible(False)\n",
    "    ax[1,0].scatter(m, i, color='crimson', s=6, marker='s')\n",
    "    #ax[1,0].title.set_text('Question 2 Responses')\n",
    "    ax[1,0].tick_params(axis='x', labelsize=15)\n",
    "    ax[1,0].set_xlabel('Compound Sentiment (Q2)', fontsize = 20)\n",
    "    \n",
    "# # QUESTION 4\n",
    "\n",
    "for i,m in enumerate(mq4):\n",
    "    ax[1,1].errorbar(m, i, xerr=sq4[i], elinewidth=5, alpha=0.5, ecolor='lightgray', capsize=0)\n",
    "    ax[1,1].axvline(0, color='black')\n",
    "    ax[1,1].axes.yaxis.set_visible(False)\n",
    "    ax[1,1].scatter(m, i, color='crimson', s=6, marker='s')\n",
    "    #ax[1,1].title.set_text('Question 4 Responses')\n",
    "    ax[1,1].tick_params(axis='x', labelsize=15)\n",
    "    ax[1,1].set_xlabel('Compound Sentiment (Q4)', fontsize = 20)\n",
    "\n",
    "# # QUESTION 5\n",
    "\n",
    "for i,m in enumerate(mq5):\n",
    "    ax[1,2].errorbar(m, i, xerr=sq5[i], elinewidth=5, alpha=0.5, ecolor='lightgray', capsize=0)\n",
    "    ax[1,2].axvline(0, color='black')\n",
    "    ax[1,2].axes.yaxis.set_visible(False)\n",
    "    ax[1,2].scatter(m, i, color='crimson', s=6, marker='s')\n",
    "    #ax[1,2].title.set_text('Question 5 Responses')\n",
    "    ax[1,2].tick_params(axis='x', labelsize=15)\n",
    "    ax[1,2].set_xlabel('Compound Sentiment (Q5)', fontsize = 20)\n",
    "       \n",
    "plt.tight_layout()        \n",
    "plt.savefig('sentiments.png', dpi=600)"
   ]
  },
  {
   "cell_type": "markdown",
   "metadata": {},
   "source": [
    "# ECDFs"
   ]
  },
  {
   "cell_type": "code",
   "execution_count": 45,
   "metadata": {},
   "outputs": [],
   "source": [
    "def ecdf(data):\n",
    "    \"\"\" Compute ECDF \"\"\"\n",
    "    x = np.sort(data)\n",
    "    y = np.arange(1, len(data)+1) / len(data)\n",
    "    return(x,y)"
   ]
  },
  {
   "cell_type": "code",
   "execution_count": 47,
   "metadata": {},
   "outputs": [
    {
     "data": {
      "image/png": "[encoded data removed]",
      "text/plain": [
       "<Figure size 864x576 with 1 Axes>"
      ]
     },
     "metadata": {
      "needs_background": "light"
     },
     "output_type": "display_data"
    }
   ],
   "source": [
    "mq1_x, mq1_y = ecdf(mq1)\n",
    "mq2_x, mq2_y = ecdf(mq2)\n",
    "mq3_x, mq3_y = ecdf(mq3)\n",
    "mq4_x, mq4_y = ecdf(mq4)\n",
    "mq5_x, mq5_y = ecdf(mq5)\n",
    "\n",
    "\n",
    "fig,ax = plt.subplots(figsize=(12,8))\n",
    "ax.scatter(mq1_x,mq1_y, c='#49699E', alpha=.5, s=40, marker='o', label='Positive Predictions')\n",
    "ax.scatter(mq3_x,mq3_y, c='crimson', alpha=.5, s=40, marker='o', label='Negative Predictions')\n",
    "ax.scatter(mq2_x,mq2_y, c='green', alpha=.5, s=40, marker='o', label='Wisdom for Positive')\n",
    "ax.scatter(mq4_x,mq4_y, c='purple', alpha=.5, s=40, marker='o', label='Wisdom against Negative')\n",
    "ax.scatter(mq5_x,mq5_y, c='black', alpha=.5, s=40, marker='o', label='Wisdom for Now')\n",
    "\n",
    "\n",
    "# interquartile range with median\n",
    "ax.set_yticks([0,.25, .5, .75, 1])\n",
    "# ax.set_yticklabels(['0', '25th', '50th', '75th', '100'])\n",
    "# ax.set_xticks([0,.1,.2,.3,.4,.5,.6,.7,.8,.9,.1])\n",
    "\n",
    "ax.axhline(.5, c='black', linewidth=1, alpha=.3) # central tendency: median value\n",
    "ax.axhline(.25, c='black', linestyle=\"--\", linewidth=1, alpha=.3) # 25th percentile\n",
    "ax.axhline(.75, c='black', linestyle=\"--\", linewidth=1, alpha=.3) # 75th percentile\n",
    "ax.axvline(0, color='black', linewidth=1, alpha=.3)\n",
    "\n",
    "plt.xlabel('Compound Sentiment Score (Mean Across Sentences)')\n",
    "plt.ylabel('Cumulative Proportion')\n",
    "plt.legend()\n",
    "plt.xlim(-1, 1)\n",
    "plt.savefig('ecdf.png', dpi=600)"
   ]
  },
  {
   "cell_type": "markdown",
   "metadata": {},
   "source": [
    "**This one would follow the small multiples.** In the small multiples, we show the distributions of scores for each sentence nested in a response. Here, we take the mean across all sentences and plot an ECDF to compare average tendencies. Combined with the previous plot, what this shows is ...\n",
    "\n",
    "Figure XXX is an ECDF plot contrasting the distributions of compound sentiment scores across all five questions. The y-axis marks the 25th, 50th, and 75th percentiles. There are several things to note when interpreting this graph. First, the central tendency each is is fairly close to 0 (neutral sentiment), with Question 3 (which asked specifically about negatives) having 75 percent of responses being negative, but with the majority of the data being close to 0. Similarly the other four questions have the bulk of responses staying relatively close to neutral.\n",
    "\n",
    "When we look across all experts and all questions, we note that the central tendency always leans in the direction expected given the question that was asked, and that in general..."
   ]
  },
  {
   "cell_type": "code",
   "execution_count": null,
   "metadata": {},
   "outputs": [],
   "source": [
    "# for p in pn: # the full response from an expert\n",
    "#     for each in p: # each sentence inside the response \n",
    "#         print(len(each)) # the positive and negative scores"
   ]
  },
  {
   "cell_type": "code",
   "execution_count": null,
   "metadata": {},
   "outputs": [],
   "source": [
    "# fig, ax = plt.subplots()\n",
    "# for e in pn:\n",
    "#     data = np.array(e)\n",
    "#     ax.plot(data[:, 0], data[:, 1])\n",
    "# plt.show"
   ]
  },
  {
   "cell_type": "code",
   "execution_count": null,
   "metadata": {},
   "outputs": [],
   "source": [
    "# data = np.array(pn[0])\n",
    "# plt.plot(data[:, 0], data[:, 1])"
   ]
  },
  {
   "cell_type": "markdown",
   "metadata": {},
   "source": [
    "## The Questions\n",
    "\n",
    "1. If you were to predict the domain or aspect of social life where we might observe the most significant positive societal and/or psychological change in response to the pandemic, what would it be? \n",
    "2. What kind of wisdom will people need to capitalize on for the positive change you refer to above? \n",
    "3. If you were to predict the domain or aspect of social life where we might observe the most significant negative societal and/or psychological change in response to the pandemic, what would it be?  \n",
    "4. What kind of wisdom will people need to master to overcome this major negative societal change after the pandemic? \n",
    "5. What one piece of wisdom do you think it is important to give people now to help them make it through the pandemic? "
   ]
  },
  {
   "cell_type": "code",
   "execution_count": null,
   "metadata": {},
   "outputs": [],
   "source": []
  },
  {
   "cell_type": "code",
   "execution_count": null,
   "metadata": {},
   "outputs": [],
   "source": []
  },
  {
   "cell_type": "code",
   "execution_count": null,
   "metadata": {},
   "outputs": [],
   "source": []
  },
  {
   "cell_type": "code",
   "execution_count": null,
   "metadata": {},
   "outputs": [],
   "source": []
  },
  {
   "cell_type": "code",
   "execution_count": null,
   "metadata": {},
   "outputs": [],
   "source": []
  },
  {
   "cell_type": "code",
   "execution_count": null,
   "metadata": {},
   "outputs": [],
   "source": []
  },
  {
   "cell_type": "code",
   "execution_count": null,
   "metadata": {},
   "outputs": [],
   "source": []
  },
  {
   "cell_type": "code",
   "execution_count": null,
   "metadata": {},
   "outputs": [],
   "source": []
  },
  {
   "cell_type": "code",
   "execution_count": null,
   "metadata": {},
   "outputs": [],
   "source": []
  },
  {
   "cell_type": "code",
   "execution_count": null,
   "metadata": {},
   "outputs": [],
   "source": []
  },
  {
   "cell_type": "code",
   "execution_count": null,
   "metadata": {},
   "outputs": [],
   "source": []
  },
  {
   "cell_type": "code",
   "execution_count": null,
   "metadata": {},
   "outputs": [],
   "source": []
  },
  {
   "cell_type": "code",
   "execution_count": null,
   "metadata": {},
   "outputs": [],
   "source": []
  },
  {
   "cell_type": "code",
   "execution_count": null,
   "metadata": {},
   "outputs": [],
   "source": []
  },
  {
   "cell_type": "code",
   "execution_count": null,
   "metadata": {},
   "outputs": [],
   "source": []
  },
  {
   "cell_type": "code",
   "execution_count": null,
   "metadata": {},
   "outputs": [],
   "source": []
  },
  {
   "cell_type": "code",
   "execution_count": null,
   "metadata": {},
   "outputs": [],
   "source": []
  },
  {
   "cell_type": "code",
   "execution_count": null,
   "metadata": {},
   "outputs": [],
   "source": [
    "# fig, ax = plt.subplots(nrows=2, ncols=3, sharex=True, sharey=True, figsize=(20, 16))\n",
    "\n",
    "# # QUESTION 1\n",
    "\n",
    "# ax1.yaxis.set_major_formatter(plt.NullFormatter())\n",
    "\n",
    "# for i,m in enumerate(mq1):\n",
    "#     ax[0,0].errorbar(m, i, xerr=sq1[i], elinewidth=5, alpha=0.5, ecolor='lightgray', capsize=0)\n",
    "#     ax[0,0].axvline(0, color='black')    \n",
    "#     ax[0,0].scatter(m, i, color='crimson', s=6, marker='s')\n",
    "#     plt.xlim(-1,1)\n",
    "#     ax[0,0].set_xticks([-1,-.5,0,.5,1])\n",
    "#     ax[0,0].set_xticklabels([\"-1\",\"-.5\",\"0\",\".5\",\"1\"])\n",
    "#     ax[0,0].axes.yaxis.set_visible(False)\n",
    "#     ax[0,0].title.set_text('Question 1 Responses')\n",
    "#     ax[0,0].tick_params(axis='x', labelsize=15)\n",
    "# #     ax[0,0].set_xlabel('Compound Sentiment\\nQuestion 1', fontsize = 20)\n",
    "    \n",
    "# # # QUESTION 3\n",
    "\n",
    "# for i,m in enumerate(mq3):\n",
    "#     ax[0,1].errorbar(m, i, xerr=sq3[i], elinewidth=5, alpha=0.5, ecolor='lightgray', capsize=0)\n",
    "#     ax[0,1].axvline(0, color='black')\n",
    "    \n",
    "# #     ax[0,1].axvline(np.mean(mq3)-(np.std(mq3)/2), color='crimson', alpha=.2)\n",
    "# #     ax[0,1].axvline(np.mean(mq3), color='crimson')\n",
    "# #     ax[0,1].axvline(np.mean(mq3)+(np.std(mq3)/2), color='crimson', alpha=.2)\n",
    "    \n",
    "#     ax[0,1].scatter(m, i, color='crimson', s=6, marker='s')\n",
    "#     ax[0,1].title.set_text('Question 3 Responses')\n",
    "#     ax[0,1].tick_params(axis='x', labelsize=15)\n",
    "# #     ax[0,1].set_xlabel('Compound Sentiment\\nQuestion 3', fontsize = 20)    \n",
    "    \n",
    "\n",
    "# # EMPTY PLOT\n",
    "# ax[0,2].axis('off')\n",
    "\n",
    "# # QUESTION 2\n",
    "\n",
    "# for i,m in enumerate(mq2):\n",
    "#     ax[1,0].errorbar(m, i, xerr=sq2[i], elinewidth=5, alpha=0.5, ecolor='lightgray', capsize=0)\n",
    "#     ax[1,0].axvline(0, color='black')\n",
    "#     ax[1,0].scatter(m, i, color='crimson', s=6, marker='s')\n",
    "#     #ax[1,0].title.set_text('Question 2 Responses')\n",
    "#     ax[1,0].tick_params(axis='x', labelsize=15)\n",
    "#     ax[1,0].set_xlabel('Compound Sentiment\\nQuestion 2', fontsize = 20)\n",
    "    \n",
    "# # # QUESTION 4\n",
    "\n",
    "# for i,m in enumerate(mq4):\n",
    "#     ax[1,1].errorbar(m, i, xerr=sq4[i], elinewidth=5, alpha=0.5, ecolor='lightgray', capsize=0)\n",
    "#     ax[1,1].axvline(0, color='black')\n",
    "#     ax[1,1].scatter(m, i, color='crimson', s=6, marker='s')\n",
    "#     #ax[1,1].title.set_text('Question 4 Responses')\n",
    "#     ax[1,1].tick_params(axis='x', labelsize=15)\n",
    "#     ax[1,1].set_xlabel('Compound Sentiment\\nQuestion 4', fontsize = 20)\n",
    "\n",
    "# # # QUESTION 5\n",
    "\n",
    "# for i,m in enumerate(mq5):\n",
    "#     ax[1,2].errorbar(m, i, xerr=sq5[i], elinewidth=5, alpha=0.5, ecolor='lightgray', capsize=0)\n",
    "#     ax[1,2].axvline(0, color='black')\n",
    "#     ax[1,2].scatter(m, i, color='crimson', s=6, marker='s')\n",
    "#     #ax[1,2].title.set_text('Question 5 Responses')\n",
    "#     ax[1,2].tick_params(axis='x', labelsize=15)\n",
    "#     ax[1,2].set_xlabel('Compound Sentiment\\nQuestion 5', fontsize = 20)\n",
    "       \n",
    "# plt.tight_layout()        \n",
    "# plt.savefig('sentiments.png', dpi=600)"
   ]
  },
  {
   "cell_type": "code",
   "execution_count": null,
   "metadata": {},
   "outputs": [],
   "source": []
  },
  {
   "cell_type": "code",
   "execution_count": null,
   "metadata": {},
   "outputs": [],
   "source": []
  },
  {
   "cell_type": "code",
   "execution_count": null,
   "metadata": {},
   "outputs": [],
   "source": []
  },
  {
   "cell_type": "code",
   "execution_count": null,
   "metadata": {},
   "outputs": [],
   "source": []
  },
  {
   "cell_type": "code",
   "execution_count": null,
   "metadata": {},
   "outputs": [],
   "source": []
  },
  {
   "cell_type": "code",
   "execution_count": null,
   "metadata": {},
   "outputs": [],
   "source": []
  },
  {
   "cell_type": "code",
   "execution_count": null,
   "metadata": {},
   "outputs": [],
   "source": []
  },
  {
   "cell_type": "code",
   "execution_count": null,
   "metadata": {},
   "outputs": [],
   "source": []
  },
  {
   "cell_type": "code",
   "execution_count": null,
   "metadata": {},
   "outputs": [],
   "source": []
  },
  {
   "cell_type": "code",
   "execution_count": null,
   "metadata": {},
   "outputs": [],
   "source": []
  },
  {
   "cell_type": "code",
   "execution_count": null,
   "metadata": {},
   "outputs": [],
   "source": [
    "# fig, ax = plt.subplots(figsize=(10,40))\n",
    "\n",
    "# for i,m in enumerate(means):\n",
    "#     ax.errorbar(m, i, xerr=stds[i], elinewidth=5, alpha=0.5, ecolor='lightgray', capsize=3)\n",
    "    \n",
    "# for i,m in enumerate(means):    \n",
    "#     ax.scatter(m, i, color='crimson', s=23)\n",
    "    \n",
    "# plt.axvline(0, color='black')    \n",
    "    \n",
    "# # ax.set_ylabel('Compound Sentiment Scores')\n",
    "# # ax.set_xlabel('Sentence Indexes')\n",
    "\n",
    "# # plt.yticks(fontsize=46)\n",
    "\n",
    "# plt.tight_layout()        \n",
    "# plt.savefig('sentiments.png', dpi=600)"
   ]
  },
  {
   "cell_type": "code",
   "execution_count": null,
   "metadata": {},
   "outputs": [],
   "source": []
  },
  {
   "cell_type": "code",
   "execution_count": null,
   "metadata": {},
   "outputs": [],
   "source": []
  },
  {
   "cell_type": "code",
   "execution_count": null,
   "metadata": {},
   "outputs": [],
   "source": []
  },
  {
   "cell_type": "code",
   "execution_count": null,
   "metadata": {},
   "outputs": [],
   "source": []
  },
  {
   "cell_type": "code",
   "execution_count": null,
   "metadata": {},
   "outputs": [],
   "source": []
  },
  {
   "cell_type": "code",
   "execution_count": null,
   "metadata": {},
   "outputs": [],
   "source": []
  },
  {
   "cell_type": "code",
   "execution_count": null,
   "metadata": {},
   "outputs": [],
   "source": []
  },
  {
   "cell_type": "code",
   "execution_count": null,
   "metadata": {},
   "outputs": [],
   "source": []
  },
  {
   "cell_type": "code",
   "execution_count": null,
   "metadata": {},
   "outputs": [],
   "source": []
  },
  {
   "cell_type": "code",
   "execution_count": null,
   "metadata": {},
   "outputs": [],
   "source": []
  },
  {
   "cell_type": "code",
   "execution_count": null,
   "metadata": {},
   "outputs": [],
   "source": []
  },
  {
   "cell_type": "code",
   "execution_count": null,
   "metadata": {},
   "outputs": [],
   "source": []
  },
  {
   "cell_type": "code",
   "execution_count": null,
   "metadata": {},
   "outputs": [],
   "source": []
  },
  {
   "cell_type": "code",
   "execution_count": null,
   "metadata": {},
   "outputs": [],
   "source": []
  },
  {
   "cell_type": "code",
   "execution_count": null,
   "metadata": {},
   "outputs": [],
   "source": []
  },
  {
   "cell_type": "code",
   "execution_count": null,
   "metadata": {},
   "outputs": [],
   "source": []
  },
  {
   "cell_type": "markdown",
   "metadata": {},
   "source": [
    "# spacy\n"
   ]
  },
  {
   "cell_type": "code",
   "execution_count": null,
   "metadata": {},
   "outputs": [],
   "source": [
    "docs = list(nlp.pipe(alltext))"
   ]
  },
  {
   "cell_type": "code",
   "execution_count": null,
   "metadata": {},
   "outputs": [],
   "source": [
    "results = []\n",
    "\n",
    "for doc in docs:\n",
    "    docsentisent = {}\n",
    "    sentences = get_sentences(doc)\n",
    "    \n",
    "    sentence_scores_compound = []\n",
    "    for sentence in sentences:\n",
    "        score = get_sentiment(sentence)\n",
    "        sentence_scores_compound.append(score['compound'])     \n",
    "            \n",
    "            \n",
    "    docsentisent = sentence_scores_compound\n",
    "    \n",
    "    results.append(docsentisent)"
   ]
  },
  {
   "cell_type": "code",
   "execution_count": null,
   "metadata": {},
   "outputs": [],
   "source": [
    "means = []\n",
    "stds = []\n",
    "for r in results:\n",
    "    means.append(np.mean(r))\n",
    "    stds.append(np.std(r))"
   ]
  },
  {
   "cell_type": "code",
   "execution_count": null,
   "metadata": {},
   "outputs": [],
   "source": [
    "fig, ax = plt.subplots(figsize=(10,40))\n",
    "\n",
    "for i,m in enumerate(means):\n",
    "    ax.errorbar(m, i, xerr=stds[i], elinewidth=5, alpha=0.5, ecolor='lightgray', capsize=3)\n",
    "    \n",
    "for i,m in enumerate(means):    \n",
    "    ax.scatter(m, i, color='crimson', s=23)\n",
    "    \n",
    "plt.axvline(0, color='black')    \n",
    "    \n",
    "# ax.set_ylabel('Compound Sentiment Scores')\n",
    "# ax.set_xlabel('Sentence Indexes')\n",
    "\n",
    "# plt.yticks(fontsize=46)\n",
    "\n",
    "plt.tight_layout()        \n",
    "plt.savefig('sentiments.png', dpi=600)"
   ]
  },
  {
   "cell_type": "code",
   "execution_count": null,
   "metadata": {},
   "outputs": [],
   "source": []
  },
  {
   "cell_type": "code",
   "execution_count": null,
   "metadata": {},
   "outputs": [],
   "source": []
  },
  {
   "cell_type": "code",
   "execution_count": null,
   "metadata": {},
   "outputs": [],
   "source": []
  },
  {
   "cell_type": "code",
   "execution_count": null,
   "metadata": {},
   "outputs": [],
   "source": []
  },
  {
   "cell_type": "code",
   "execution_count": null,
   "metadata": {},
   "outputs": [],
   "source": []
  },
  {
   "cell_type": "code",
   "execution_count": null,
   "metadata": {},
   "outputs": [],
   "source": []
  },
  {
   "cell_type": "code",
   "execution_count": null,
   "metadata": {},
   "outputs": [],
   "source": []
  },
  {
   "cell_type": "code",
   "execution_count": null,
   "metadata": {},
   "outputs": [],
   "source": []
  },
  {
   "cell_type": "code",
   "execution_count": null,
   "metadata": {},
   "outputs": [],
   "source": [
    "fig, ax = plt.subplots(figsize=(30,10))\n",
    "\n",
    "# for i,each in enumerate(results):\n",
    "#     for r in each:\n",
    "#         ax.scatter(i,r, color='gray', s=5)\n",
    "\n",
    "for i,m in enumerate(means):\n",
    "    ax.errorbar(i, m, yerr=stds[i], alpha=0.5, ecolor='black', capsize=3)\n",
    "    \n",
    "#     ax.scatter(i, m, color='crimson', s=5)\n",
    "ax.set_ylabel('Compound Sentiment Scores')\n",
    "ax.set_xlabel('Sentence Indexes')\n",
    "\n",
    "plt.yticks(fontsize=46)\n",
    "\n",
    "plt.tight_layout()        \n",
    "plt.show()"
   ]
  },
  {
   "cell_type": "code",
   "execution_count": null,
   "metadata": {},
   "outputs": [],
   "source": []
  },
  {
   "cell_type": "code",
   "execution_count": null,
   "metadata": {},
   "outputs": [],
   "source": []
  },
  {
   "cell_type": "code",
   "execution_count": null,
   "metadata": {},
   "outputs": [],
   "source": []
  },
  {
   "cell_type": "code",
   "execution_count": null,
   "metadata": {},
   "outputs": [],
   "source": []
  },
  {
   "cell_type": "code",
   "execution_count": null,
   "metadata": {},
   "outputs": [],
   "source": []
  },
  {
   "cell_type": "code",
   "execution_count": null,
   "metadata": {},
   "outputs": [],
   "source": []
  },
  {
   "cell_type": "code",
   "execution_count": null,
   "metadata": {},
   "outputs": [],
   "source": []
  },
  {
   "cell_type": "code",
   "execution_count": null,
   "metadata": {},
   "outputs": [],
   "source": []
  },
  {
   "cell_type": "code",
   "execution_count": null,
   "metadata": {},
   "outputs": [],
   "source": []
  },
  {
   "cell_type": "code",
   "execution_count": null,
   "metadata": {},
   "outputs": [],
   "source": []
  },
  {
   "cell_type": "code",
   "execution_count": null,
   "metadata": {},
   "outputs": [],
   "source": []
  },
  {
   "cell_type": "code",
   "execution_count": null,
   "metadata": {},
   "outputs": [],
   "source": []
  },
  {
   "cell_type": "code",
   "execution_count": null,
   "metadata": {},
   "outputs": [],
   "source": []
  },
  {
   "cell_type": "code",
   "execution_count": null,
   "metadata": {},
   "outputs": [],
   "source": []
  },
  {
   "cell_type": "code",
   "execution_count": null,
   "metadata": {},
   "outputs": [],
   "source": []
  },
  {
   "cell_type": "code",
   "execution_count": null,
   "metadata": {},
   "outputs": [],
   "source": []
  },
  {
   "cell_type": "code",
   "execution_count": null,
   "metadata": {},
   "outputs": [],
   "source": [
    "neg = [scores['neg'] for scores in doc_scores[0]]\n",
    "neu = [scores['neu'] for scores in doc_scores[0]]\n",
    "pos = [scores['pos'] for scores in doc_scores[0]]\n",
    "com = [scores['compound'] for scores in doc_scores[0]]"
   ]
  },
  {
   "cell_type": "code",
   "execution_count": null,
   "metadata": {},
   "outputs": [],
   "source": [
    "com"
   ]
  },
  {
   "cell_type": "code",
   "execution_count": null,
   "metadata": {},
   "outputs": [],
   "source": []
  },
  {
   "cell_type": "code",
   "execution_count": null,
   "metadata": {},
   "outputs": [],
   "source": []
  },
  {
   "cell_type": "code",
   "execution_count": null,
   "metadata": {},
   "outputs": [],
   "source": []
  },
  {
   "cell_type": "code",
   "execution_count": null,
   "metadata": {},
   "outputs": [],
   "source": []
  },
  {
   "cell_type": "code",
   "execution_count": null,
   "metadata": {},
   "outputs": [],
   "source": []
  },
  {
   "cell_type": "code",
   "execution_count": null,
   "metadata": {},
   "outputs": [],
   "source": []
  },
  {
   "cell_type": "code",
   "execution_count": null,
   "metadata": {},
   "outputs": [],
   "source": []
  },
  {
   "cell_type": "code",
   "execution_count": null,
   "metadata": {},
   "outputs": [],
   "source": []
  },
  {
   "cell_type": "code",
   "execution_count": null,
   "metadata": {},
   "outputs": [],
   "source": [
    "sentences = []\n",
    "chunks = []\n",
    "\n",
    "for doc in docs:\n",
    "    for sent in doc.sents:\n",
    "        sentences.append(sent)\n",
    "    for chunk in doc.noun_chunks:\n",
    "        chunks.append(chunk)"
   ]
  },
  {
   "cell_type": "code",
   "execution_count": null,
   "metadata": {},
   "outputs": [],
   "source": [
    "analyzer = SentimentIntensityAnalyzer()"
   ]
  },
  {
   "cell_type": "code",
   "execution_count": null,
   "metadata": {},
   "outputs": [],
   "source": [
    "sent_strings = [s.text for s in sentences]\n",
    "chunk_strings = [c.text for c in chunks]"
   ]
  },
  {
   "cell_type": "code",
   "execution_count": null,
   "metadata": {},
   "outputs": [],
   "source": [
    "def sentiment_analysis(texts):\n",
    "    source = []\n",
    "    sentiment = [] \n",
    "    for t in texts:\n",
    "        source.append(t)\n",
    "        sentiment.append(analyzer.polarity_scores(t))\n",
    "    return source, sentiment"
   ]
  },
  {
   "cell_type": "code",
   "execution_count": null,
   "metadata": {},
   "outputs": [],
   "source": [
    "s_text, s_sentiment = sentiment_analysis(sent_strings)\n",
    "c_text, c_sentiment = sentiment_analysis(chunk_strings)"
   ]
  },
  {
   "cell_type": "code",
   "execution_count": null,
   "metadata": {},
   "outputs": [],
   "source": [
    "df = pd.DataFrame(s_sentiment)\n",
    "df['text'] = s_text"
   ]
  },
  {
   "cell_type": "code",
   "execution_count": null,
   "metadata": {},
   "outputs": [],
   "source": [
    "df['compound'].plot()"
   ]
  },
  {
   "cell_type": "code",
   "execution_count": null,
   "metadata": {},
   "outputs": [],
   "source": [
    "df.sort_values('pos', ascending=False)"
   ]
  },
  {
   "cell_type": "code",
   "execution_count": null,
   "metadata": {},
   "outputs": [],
   "source": []
  },
  {
   "cell_type": "code",
   "execution_count": null,
   "metadata": {},
   "outputs": [],
   "source": []
  },
  {
   "cell_type": "code",
   "execution_count": null,
   "metadata": {},
   "outputs": [],
   "source": []
  }
 ],
 "metadata": {
  "kernelspec": {
   "display_name": "Python 3",
   "language": "python",
   "name": "python3"
  },
  "language_info": {
   "codemirror_mode": {
    "name": "ipython",
    "version": 3
   },
   "file_extension": ".py",
   "mimetype": "text/x-python",
   "name": "python",
   "nbconvert_exporter": "python",
   "pygments_lexer": "ipython3",
   "version": "3.7.9"
  },
  "toc": {
   "base_numbering": 1,
   "nav_menu": {},
   "number_sections": false,
   "sideBar": true,
   "skip_h1_title": false,
   "title_cell": "Table of Contents",
   "title_sidebar": "Contents",
   "toc_cell": false,
   "toc_position": {},
   "toc_section_display": true,
   "toc_window_display": false
  },
  "varInspector": {
   "cols": {
    "lenName": 16,
    "lenType": 16,
    "lenVar": 40
   },
   "kernels_config": {
    "python": {
     "delete_cmd_postfix": "",
     "delete_cmd_prefix": "del ",
     "library": "var_list.py",
     "varRefreshCmd": "print(var_dic_list())"
    },
    "r": {
     "delete_cmd_postfix": ") ",
     "delete_cmd_prefix": "rm(",
     "library": "var_list.r",
     "varRefreshCmd": "cat(var_dic_list()) "
    }
   },
   "types_to_exclude": [
    "module",
    "function",
    "builtin_function_or_method",
    "instance",
    "_Feature"
   ],
   "window_display": false
  }
 },
 "nbformat": 4,
 "nbformat_minor": 4
}
